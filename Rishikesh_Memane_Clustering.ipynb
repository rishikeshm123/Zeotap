{
 "cells": [
  {
   "cell_type": "code",
   "execution_count": 6,
   "metadata": {},
   "outputs": [],
   "source": [
    "import pandas as pd\n",
    "import numpy as np\n",
    "import matplotlib.pyplot as plt\n",
    "import seaborn as sns\n",
    "from sklearn.cluster import DBSCAN\n",
    "from sklearn.metrics import davies_bouldin_score\n",
    "from sklearn.preprocessing import StandardScaler\n",
    "from sklearn.cluster import KMeans\n",
    "from sklearn.decomposition import PCA\n"
   ]
  },
  {
   "cell_type": "code",
   "execution_count": 7,
   "metadata": {},
   "outputs": [],
   "source": [
    "# Load customer and transaction data\n",
    "customers_df = pd.read_csv('Customers.csv')\n",
    "transactions_df = pd.read_csv('Transactions.csv')\n",
    "\n",
    "# Merge customer and transaction data if needed (for example, based on CustomerID)\n",
    "merged_df = pd.merge(customers_df, transactions_df, on='CustomerID',how = \"inner\")\n",
    "\n",
    "# Ensure 'SignupDate' is in datetime format\n",
    "merged_df['SignupDate'] = pd.to_datetime(merged_df['SignupDate'])\n",
    "\n",
    "# Calculate days since joining\n",
    "merged_df['DaysSinceJoining'] = (pd.to_datetime('today') - merged_df['SignupDate']).dt.days\n"
   ]
  },
  {
   "cell_type": "code",
   "execution_count": 8,
   "metadata": {},
   "outputs": [
    {
     "name": "stdout",
     "output_type": "stream",
     "text": [
      "<class 'pandas.core.frame.DataFrame'>\n",
      "RangeIndex: 1000 entries, 0 to 999\n",
      "Data columns (total 11 columns):\n",
      " #   Column            Non-Null Count  Dtype         \n",
      "---  ------            --------------  -----         \n",
      " 0   CustomerID        1000 non-null   object        \n",
      " 1   CustomerName      1000 non-null   object        \n",
      " 2   Region            1000 non-null   object        \n",
      " 3   SignupDate        1000 non-null   datetime64[ns]\n",
      " 4   TransactionID     1000 non-null   object        \n",
      " 5   ProductID         1000 non-null   object        \n",
      " 6   TransactionDate   1000 non-null   object        \n",
      " 7   Quantity          1000 non-null   int64         \n",
      " 8   TotalValue        1000 non-null   float64       \n",
      " 9   Price             1000 non-null   float64       \n",
      " 10  DaysSinceJoining  1000 non-null   int64         \n",
      "dtypes: datetime64[ns](1), float64(2), int64(2), object(6)\n",
      "memory usage: 86.1+ KB\n"
     ]
    }
   ],
   "source": [
    "merged_df.info()"
   ]
  },
  {
   "cell_type": "code",
   "execution_count": 9,
   "metadata": {},
   "outputs": [],
   "source": [
    "# Step 1: Preprocessing\n",
    "features_df = merged_df[['CustomerID','Region','TotalValue','DaysSinceJoining']]\n",
    "\n",
    "# One-hot encode Region as it's categorical\n",
    "features_df = pd.get_dummies(features_df, columns=['Region','CustomerID'])\n",
    "\n",
    "# Standardizing the numerical features (Quantity, TotalValue, Price)\n",
    "scaler = StandardScaler()\n",
    "scaled_features = scaler.fit_transform(features_df)"
   ]
  },
  {
   "cell_type": "code",
   "execution_count": 10,
   "metadata": {},
   "outputs": [
    {
     "data": {
      "text/html": [
       "<div>\n",
       "<style scoped>\n",
       "    .dataframe tbody tr th:only-of-type {\n",
       "        vertical-align: middle;\n",
       "    }\n",
       "\n",
       "    .dataframe tbody tr th {\n",
       "        vertical-align: top;\n",
       "    }\n",
       "\n",
       "    .dataframe thead th {\n",
       "        text-align: right;\n",
       "    }\n",
       "</style>\n",
       "<table border=\"1\" class=\"dataframe\">\n",
       "  <thead>\n",
       "    <tr style=\"text-align: right;\">\n",
       "      <th></th>\n",
       "      <th>n_clusters</th>\n",
       "      <th>davies_bouldin_index</th>\n",
       "    </tr>\n",
       "  </thead>\n",
       "  <tbody>\n",
       "    <tr>\n",
       "      <th>0</th>\n",
       "      <td>2</td>\n",
       "      <td>0.759606</td>\n",
       "    </tr>\n",
       "    <tr>\n",
       "      <th>1</th>\n",
       "      <td>3</td>\n",
       "      <td>1.072367</td>\n",
       "    </tr>\n",
       "    <tr>\n",
       "      <th>2</th>\n",
       "      <td>4</td>\n",
       "      <td>1.991391</td>\n",
       "    </tr>\n",
       "    <tr>\n",
       "      <th>3</th>\n",
       "      <td>5</td>\n",
       "      <td>5.127449</td>\n",
       "    </tr>\n",
       "    <tr>\n",
       "      <th>4</th>\n",
       "      <td>6</td>\n",
       "      <td>4.631310</td>\n",
       "    </tr>\n",
       "    <tr>\n",
       "      <th>5</th>\n",
       "      <td>7</td>\n",
       "      <td>4.414384</td>\n",
       "    </tr>\n",
       "    <tr>\n",
       "      <th>6</th>\n",
       "      <td>8</td>\n",
       "      <td>2.103944</td>\n",
       "    </tr>\n",
       "    <tr>\n",
       "      <th>7</th>\n",
       "      <td>9</td>\n",
       "      <td>2.004123</td>\n",
       "    </tr>\n",
       "    <tr>\n",
       "      <th>8</th>\n",
       "      <td>10</td>\n",
       "      <td>1.936859</td>\n",
       "    </tr>\n",
       "  </tbody>\n",
       "</table>\n",
       "</div>"
      ],
      "text/plain": [
       "   n_clusters  davies_bouldin_index\n",
       "0           2              0.759606\n",
       "1           3              1.072367\n",
       "2           4              1.991391\n",
       "3           5              5.127449\n",
       "4           6              4.631310\n",
       "5           7              4.414384\n",
       "6           8              2.103944\n",
       "7           9              2.004123\n",
       "8          10              1.936859"
      ]
     },
     "execution_count": 10,
     "metadata": {},
     "output_type": "execute_result"
    }
   ],
   "source": [
    "# Step 1: Initialize a DataFrame to store results\n",
    "cluster_results = []\n",
    "\n",
    "# Step 2: Loop through different numbers of clusters for GridSearch\n",
    "best_db_index = float('inf')\n",
    "best_kmeans = None\n",
    "best_n_clusters = 0\n",
    "\n",
    "# Try different numbers of clusters (from 2 to 10)\n",
    "for n_clusters in range(2, 11):\n",
    "    kmeans = KMeans(n_clusters=n_clusters, random_state=42)\n",
    "    kmeans.fit(scaled_features)\n",
    "\n",
    "    # Calculate Davies-Bouldin Index\n",
    "    db_index = davies_bouldin_score(scaled_features, kmeans.labels_)\n",
    "\n",
    "    # Store the result for each iteration\n",
    "    cluster_results.append({\n",
    "        'n_clusters': n_clusters,\n",
    "        'davies_bouldin_index': db_index\n",
    "    })\n",
    "\n",
    "    # Track the best DBI (lower is better)\n",
    "    if db_index < best_db_index:\n",
    "        best_db_index = db_index\n",
    "        best_kmeans = kmeans\n",
    "        best_n_clusters = n_clusters\n",
    "\n",
    "# Step 3: Convert results to a DataFrame for easier analysis\n",
    "cluster_results_df = pd.DataFrame(cluster_results)\n",
    "\n",
    "# Display the results of each trial\n",
    "cluster_results_df\n"
   ]
  },
  {
   "cell_type": "code",
   "execution_count": 11,
   "metadata": {},
   "outputs": [],
   "source": [
    "\n",
    "# Step 4: Add cluster labels to the dataframe\n",
    "features_df['Cluster'] = best_kmeans.labels_"
   ]
  },
  {
   "cell_type": "code",
   "execution_count": null,
   "metadata": {},
   "outputs": [],
   "source": [
    "# Step 5: Visualization\n",
    "# Visualize clusters using a pair plot\n",
    "sns.pairplot(features_df, hue='Cluster', palette='Set1')\n",
    "plt.savefig('pairplot.png')\n",
    "plt.show()\n",
    "\n",
    "# Reduce dimensions to 3D for visualization\n",
    "pca = PCA(n_components=3)\n",
    "pca_components = pca.fit_transform(scaled_features)\n",
    "\n",
    "# 3D scatter plot\n",
    "fig = plt.figure(figsize=(10, 8))\n",
    "ax = fig.add_subplot(111, projection='3d')\n",
    "ax.scatter(pca_components[:, 0], pca_components[:, 1], pca_components[:, 2], c=best_kmeans.labels_, cmap='Set1')\n",
    "ax.set_xlabel('PCA1')\n",
    "ax.set_ylabel('PCA2')\n",
    "ax.set_zlabel('PCA3')\n",
    "plt.title('3D Cluster Visualization')\n",
    "plt.savefig('3D Cluster Visualization.png', dpi=300)  \n",
    "plt.show()\n"
   ]
  },
  {
   "cell_type": "code",
   "execution_count": null,
   "metadata": {},
   "outputs": [],
   "source": []
  }
 ],
 "metadata": {
  "kernelspec": {
   "display_name": "Python 3",
   "language": "python",
   "name": "python3"
  },
  "language_info": {
   "codemirror_mode": {
    "name": "ipython",
    "version": 3
   },
   "file_extension": ".py",
   "mimetype": "text/x-python",
   "name": "python",
   "nbconvert_exporter": "python",
   "pygments_lexer": "ipython3",
   "version": "3.12.5"
  }
 },
 "nbformat": 4,
 "nbformat_minor": 2
}
